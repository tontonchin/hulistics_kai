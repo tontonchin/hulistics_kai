{
 "cells": [
  {
   "cell_type": "code",
   "execution_count": 2,
   "metadata": {},
   "outputs": [],
   "source": [
    "import math"
   ]
  },
  {
   "cell_type": "code",
   "execution_count": 3,
   "metadata": {},
   "outputs": [],
   "source": [
    "pi = math.pi\n"
   ]
  },
  {
   "cell_type": "code",
   "execution_count": 4,
   "metadata": {},
   "outputs": [
    {
     "data": {
      "text/plain": [
       "-1.7"
      ]
     },
     "execution_count": 4,
     "metadata": {},
     "output_type": "execute_result"
    }
   ],
   "source": [
    "1.7 * math.sin((pi/2)*3)"
   ]
  },
  {
   "cell_type": "code",
   "execution_count": 5,
   "metadata": {},
   "outputs": [
    {
     "ename": "SyntaxError",
     "evalue": "invalid syntax (<ipython-input-5-8a8f48e40a26>, line 1)",
     "output_type": "error",
     "traceback": [
      "\u001b[0;36m  File \u001b[0;32m\"<ipython-input-5-8a8f48e40a26>\"\u001b[0;36m, line \u001b[0;32m1\u001b[0m\n\u001b[0;31m    [4.68510718 1.54351453 4.68510718 1.54351453 4.68510718 1.54351453\u001b[0m\n\u001b[0m                         ^\u001b[0m\n\u001b[0;31mSyntaxError\u001b[0m\u001b[0;31m:\u001b[0m invalid syntax\n"
     ]
    }
   ],
   "source": [
    "[4.68510718 1.54351453 4.68510718 1.54351453 4.68510718 1.54351453\n",
    " 4.68510718 1.54351453 1.54351453 1.54351453] alpha\n",
    "[4.65782539 1.51623274 4.65782539 1.51623274 4.65782539 1.51623274\n",
    " 4.65782539 1.51623274 1.51623274 1.51623274] alpha\n",
    "[4.63054359 1.48895094 4.63054359 1.48895094 4.63054359 1.48895094\n",
    " 4.63054359 1.48895094 1.48895094 1.48895094] alpha\n",
    "[4.63054359 1.48895094 4.63054359 1.48895094 4.63054359 1.48895094\n",
    " 4.63054359 1.48895094 1.48895094 1.48895094] \n",
    "[4.57598    1.43438735 4.57598    1.43438735 4.57598    1.43438735\n",
    " 4.57598    1.43438735 1.43438735 1.43438735] alpha\n",
    "[4.54869821 1.40710555 4.54869821 1.40710555 4.54869821 1.40710555\n",
    " 4.54869821 1.40710555 1.40710555 1.40710555] alpha\n",
    "[4.52141641 1.37982376 4.52141641 1.37982376 4.52141641 1.37982376\n",
    " 4.52141641 1.37982376 1.37982376 1.37982376] alpha\n",
    "[4.49413462 1.35254196 4.49413462 1.35254196 4.49413462 1.35254196\n",
    " 4.49413462 1.35254196 1.35254196 1.35254196] alpha\n",
    "[4.46685282 1.32526017 4.46685282 1.32526017 4.46685282 1.32526017\n",
    " 4.46685282 1.32526017 1.32526017 1.32526017] alpha\n",
    "[4.43957102 1.29797837 4.43957102 1.29797837 4.43957102 1.29797837\n",
    " 4.43957102 1.29797837 1.29797837 1.29797837] alpha\n",
    "\n",
    "alphaがだんだん小さくなってきている"
   ]
  },
  {
   "cell_type": "code",
   "execution_count": null,
   "metadata": {},
   "outputs": [],
   "source": []
  },
  {
   "cell_type": "code",
   "execution_count": null,
   "metadata": {},
   "outputs": [],
   "source": []
  }
 ],
 "metadata": {
  "kernelspec": {
   "display_name": "Python 3",
   "language": "python",
   "name": "python3"
  },
  "language_info": {
   "codemirror_mode": {
    "name": "ipython",
    "version": 3
   },
   "file_extension": ".py",
   "mimetype": "text/x-python",
   "name": "python",
   "nbconvert_exporter": "python",
   "pygments_lexer": "ipython3",
   "version": "3.7.4"
  }
 },
 "nbformat": 4,
 "nbformat_minor": 2
}
